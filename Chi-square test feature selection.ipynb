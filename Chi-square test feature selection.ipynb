{
 "cells": [
  {
   "cell_type": "code",
   "execution_count": 1,
   "metadata": {},
   "outputs": [],
   "source": [
    "import warnings\n",
    "warnings.simplefilter(action='ignore', category=FutureWarning)\n",
    "import seaborn as sns\n",
    "import matplotlib.pyplot as plt\n",
    "%matplotlib inline \n",
    "#get_ipython().run_line_magic('matplotlib', 'inline') Alternative command\n",
    "from scipy import stats\n",
    "import statsmodels.api as sm\n",
    "import pandas as pd"
   ]
  },
  {
   "cell_type": "code",
   "execution_count": 2,
   "metadata": {},
   "outputs": [
    {
     "data": {
      "text/html": [
       "<div>\n",
       "<style scoped>\n",
       "    .dataframe tbody tr th:only-of-type {\n",
       "        vertical-align: middle;\n",
       "    }\n",
       "\n",
       "    .dataframe tbody tr th {\n",
       "        vertical-align: top;\n",
       "    }\n",
       "\n",
       "    .dataframe thead th {\n",
       "        text-align: right;\n",
       "    }\n",
       "</style>\n",
       "<table border=\"1\" class=\"dataframe\">\n",
       "  <thead>\n",
       "    <tr style=\"text-align: right;\">\n",
       "      <th></th>\n",
       "      <th>customerID</th>\n",
       "      <th>gender</th>\n",
       "      <th>SeniorCitizen</th>\n",
       "      <th>tenure</th>\n",
       "      <th>ServiceCount</th>\n",
       "      <th>Contract</th>\n",
       "      <th>PaperlessBilling</th>\n",
       "      <th>MonthlyCharges</th>\n",
       "      <th>TotalCharges</th>\n",
       "      <th>Churn</th>\n",
       "    </tr>\n",
       "  </thead>\n",
       "  <tbody>\n",
       "    <tr>\n",
       "      <th>0</th>\n",
       "      <td>7590-VHVEG</td>\n",
       "      <td>Female</td>\n",
       "      <td>0</td>\n",
       "      <td>1</td>\n",
       "      <td>2</td>\n",
       "      <td>Month-to-month</td>\n",
       "      <td>Yes</td>\n",
       "      <td>29.85</td>\n",
       "      <td>29.85</td>\n",
       "      <td>No</td>\n",
       "    </tr>\n",
       "    <tr>\n",
       "      <th>1</th>\n",
       "      <td>5575-GNVDE</td>\n",
       "      <td>Male</td>\n",
       "      <td>0</td>\n",
       "      <td>34</td>\n",
       "      <td>4</td>\n",
       "      <td>One year</td>\n",
       "      <td>No</td>\n",
       "      <td>56.95</td>\n",
       "      <td>1889.50</td>\n",
       "      <td>No</td>\n",
       "    </tr>\n",
       "    <tr>\n",
       "      <th>2</th>\n",
       "      <td>3668-QPYBK</td>\n",
       "      <td>Male</td>\n",
       "      <td>0</td>\n",
       "      <td>2</td>\n",
       "      <td>4</td>\n",
       "      <td>Month-to-month</td>\n",
       "      <td>Yes</td>\n",
       "      <td>53.85</td>\n",
       "      <td>108.15</td>\n",
       "      <td>Yes</td>\n",
       "    </tr>\n",
       "    <tr>\n",
       "      <th>3</th>\n",
       "      <td>7795-CFOCW</td>\n",
       "      <td>Male</td>\n",
       "      <td>0</td>\n",
       "      <td>45</td>\n",
       "      <td>4</td>\n",
       "      <td>One year</td>\n",
       "      <td>No</td>\n",
       "      <td>42.30</td>\n",
       "      <td>1840.75</td>\n",
       "      <td>No</td>\n",
       "    </tr>\n",
       "    <tr>\n",
       "      <th>4</th>\n",
       "      <td>9237-HQITU</td>\n",
       "      <td>Female</td>\n",
       "      <td>0</td>\n",
       "      <td>2</td>\n",
       "      <td>2</td>\n",
       "      <td>Month-to-month</td>\n",
       "      <td>Yes</td>\n",
       "      <td>70.70</td>\n",
       "      <td>151.65</td>\n",
       "      <td>Yes</td>\n",
       "    </tr>\n",
       "    <tr>\n",
       "      <th>...</th>\n",
       "      <td>...</td>\n",
       "      <td>...</td>\n",
       "      <td>...</td>\n",
       "      <td>...</td>\n",
       "      <td>...</td>\n",
       "      <td>...</td>\n",
       "      <td>...</td>\n",
       "      <td>...</td>\n",
       "      <td>...</td>\n",
       "      <td>...</td>\n",
       "    </tr>\n",
       "    <tr>\n",
       "      <th>7038</th>\n",
       "      <td>6840-RESVB</td>\n",
       "      <td>Male</td>\n",
       "      <td>0</td>\n",
       "      <td>24</td>\n",
       "      <td>8</td>\n",
       "      <td>One year</td>\n",
       "      <td>Yes</td>\n",
       "      <td>84.80</td>\n",
       "      <td>1990.50</td>\n",
       "      <td>No</td>\n",
       "    </tr>\n",
       "    <tr>\n",
       "      <th>7039</th>\n",
       "      <td>2234-XADUH</td>\n",
       "      <td>Female</td>\n",
       "      <td>0</td>\n",
       "      <td>72</td>\n",
       "      <td>7</td>\n",
       "      <td>One year</td>\n",
       "      <td>Yes</td>\n",
       "      <td>103.20</td>\n",
       "      <td>7362.90</td>\n",
       "      <td>No</td>\n",
       "    </tr>\n",
       "    <tr>\n",
       "      <th>7040</th>\n",
       "      <td>4801-JZAZL</td>\n",
       "      <td>Female</td>\n",
       "      <td>0</td>\n",
       "      <td>11</td>\n",
       "      <td>2</td>\n",
       "      <td>Month-to-month</td>\n",
       "      <td>Yes</td>\n",
       "      <td>29.60</td>\n",
       "      <td>346.45</td>\n",
       "      <td>No</td>\n",
       "    </tr>\n",
       "    <tr>\n",
       "      <th>7041</th>\n",
       "      <td>8361-LTMKD</td>\n",
       "      <td>Male</td>\n",
       "      <td>1</td>\n",
       "      <td>4</td>\n",
       "      <td>3</td>\n",
       "      <td>Month-to-month</td>\n",
       "      <td>Yes</td>\n",
       "      <td>74.40</td>\n",
       "      <td>306.60</td>\n",
       "      <td>Yes</td>\n",
       "    </tr>\n",
       "    <tr>\n",
       "      <th>7042</th>\n",
       "      <td>3186-AJIEK</td>\n",
       "      <td>Male</td>\n",
       "      <td>0</td>\n",
       "      <td>66</td>\n",
       "      <td>7</td>\n",
       "      <td>Two year</td>\n",
       "      <td>Yes</td>\n",
       "      <td>105.65</td>\n",
       "      <td>6844.50</td>\n",
       "      <td>No</td>\n",
       "    </tr>\n",
       "  </tbody>\n",
       "</table>\n",
       "<p>7043 rows × 10 columns</p>\n",
       "</div>"
      ],
      "text/plain": [
       "      customerID  gender  SeniorCitizen  tenure  ServiceCount        Contract  \\\n",
       "0     7590-VHVEG  Female              0       1             2  Month-to-month   \n",
       "1     5575-GNVDE    Male              0      34             4        One year   \n",
       "2     3668-QPYBK    Male              0       2             4  Month-to-month   \n",
       "3     7795-CFOCW    Male              0      45             4        One year   \n",
       "4     9237-HQITU  Female              0       2             2  Month-to-month   \n",
       "...          ...     ...            ...     ...           ...             ...   \n",
       "7038  6840-RESVB    Male              0      24             8        One year   \n",
       "7039  2234-XADUH  Female              0      72             7        One year   \n",
       "7040  4801-JZAZL  Female              0      11             2  Month-to-month   \n",
       "7041  8361-LTMKD    Male              1       4             3  Month-to-month   \n",
       "7042  3186-AJIEK    Male              0      66             7        Two year   \n",
       "\n",
       "     PaperlessBilling  MonthlyCharges  TotalCharges Churn  \n",
       "0                 Yes           29.85         29.85    No  \n",
       "1                  No           56.95       1889.50    No  \n",
       "2                 Yes           53.85        108.15   Yes  \n",
       "3                  No           42.30       1840.75    No  \n",
       "4                 Yes           70.70        151.65   Yes  \n",
       "...               ...             ...           ...   ...  \n",
       "7038              Yes           84.80       1990.50    No  \n",
       "7039              Yes          103.20       7362.90    No  \n",
       "7040              Yes           29.60        346.45    No  \n",
       "7041              Yes           74.40        306.60   Yes  \n",
       "7042              Yes          105.65       6844.50    No  \n",
       "\n",
       "[7043 rows x 10 columns]"
      ]
     },
     "execution_count": 2,
     "metadata": {},
     "output_type": "execute_result"
    }
   ],
   "source": [
    "df = pd.read_csv('https://raw.githubusercontent.com/srivatsan88/YouTubeLI/master/dataset/churn_data_st.csv')\n",
    "df"
   ]
  },
  {
   "cell_type": "markdown",
   "metadata": {},
   "source": [
    "### In this case we will use 1 feature ( categorical ) and check thier significance as per the target variable weather to use them ? or drop them in ML pipeline"
   ]
  },
  {
   "cell_type": "code",
   "execution_count": 5,
   "metadata": {},
   "outputs": [
    {
     "name": "stdout",
     "output_type": "stream",
     "text": [
      "<class 'pandas.core.frame.DataFrame'>\n",
      "RangeIndex: 7043 entries, 0 to 7042\n",
      "Data columns (total 10 columns):\n",
      " #   Column            Non-Null Count  Dtype  \n",
      "---  ------            --------------  -----  \n",
      " 0   customerID        7043 non-null   object \n",
      " 1   gender            7043 non-null   object \n",
      " 2   SeniorCitizen     7043 non-null   int64  \n",
      " 3   tenure            7043 non-null   int64  \n",
      " 4   ServiceCount      7043 non-null   int64  \n",
      " 5   Contract          7043 non-null   object \n",
      " 6   PaperlessBilling  7043 non-null   object \n",
      " 7   MonthlyCharges    7043 non-null   float64\n",
      " 8   TotalCharges      7016 non-null   float64\n",
      " 9   Churn             7043 non-null   object \n",
      "dtypes: float64(2), int64(3), object(5)\n",
      "memory usage: 550.4+ KB\n",
      "None\n",
      "customerID          7043\n",
      "gender                 2\n",
      "SeniorCitizen          2\n",
      "tenure                73\n",
      "ServiceCount           9\n",
      "Contract               3\n",
      "PaperlessBilling       2\n",
      "MonthlyCharges      1585\n",
      "TotalCharges        6514\n",
      "Churn                  2\n",
      "dtype: int64\n"
     ]
    }
   ],
   "source": [
    "print(df.info())\n",
    "print(df.nunique())"
   ]
  },
  {
   "cell_type": "markdown",
   "metadata": {},
   "source": [
    "# 1. \n",
    "### Weather Gender impacts on Churn ? or not ?"
   ]
  },
  {
   "cell_type": "markdown",
   "metadata": {},
   "source": [
    "# Null : There is no relationship in B/W categorical variables\n",
    "# Alternate : There is a relationship B/W both"
   ]
  },
  {
   "cell_type": "code",
   "execution_count": 6,
   "metadata": {},
   "outputs": [
    {
     "data": {
      "text/html": [
       "<div>\n",
       "<style scoped>\n",
       "    .dataframe tbody tr th:only-of-type {\n",
       "        vertical-align: middle;\n",
       "    }\n",
       "\n",
       "    .dataframe tbody tr th {\n",
       "        vertical-align: top;\n",
       "    }\n",
       "\n",
       "    .dataframe thead th {\n",
       "        text-align: right;\n",
       "    }\n",
       "</style>\n",
       "<table border=\"1\" class=\"dataframe\">\n",
       "  <thead>\n",
       "    <tr style=\"text-align: right;\">\n",
       "      <th>Churn</th>\n",
       "      <th>No</th>\n",
       "      <th>Yes</th>\n",
       "    </tr>\n",
       "    <tr>\n",
       "      <th>gender</th>\n",
       "      <th></th>\n",
       "      <th></th>\n",
       "    </tr>\n",
       "  </thead>\n",
       "  <tbody>\n",
       "    <tr>\n",
       "      <th>Female</th>\n",
       "      <td>2549</td>\n",
       "      <td>939</td>\n",
       "    </tr>\n",
       "    <tr>\n",
       "      <th>Male</th>\n",
       "      <td>2625</td>\n",
       "      <td>930</td>\n",
       "    </tr>\n",
       "  </tbody>\n",
       "</table>\n",
       "</div>"
      ],
      "text/plain": [
       "Churn     No  Yes\n",
       "gender           \n",
       "Female  2549  939\n",
       "Male    2625  930"
      ]
     },
     "execution_count": 6,
     "metadata": {},
     "output_type": "execute_result"
    }
   ],
   "source": [
    "table = pd.crosstab(df['gender'] , df['Churn'])\n",
    "table"
   ]
  },
  {
   "cell_type": "code",
   "execution_count": 10,
   "metadata": {},
   "outputs": [
    {
     "data": {
      "text/plain": [
       "Churn\n",
       "No     2625\n",
       "Yes     930\n",
       "Name: Male, dtype: int64"
      ]
     },
     "execution_count": 10,
     "metadata": {},
     "output_type": "execute_result"
    }
   ],
   "source": [
    "table.iloc[1]"
   ]
  },
  {
   "cell_type": "code",
   "execution_count": 11,
   "metadata": {},
   "outputs": [
    {
     "name": "stdout",
     "output_type": "stream",
     "text": [
      "Observed Values :\n",
      " [[2549  939]\n",
      " [2625  930]]\n"
     ]
    }
   ],
   "source": [
    "Observed_Values = table.values \n",
    "print(\"Observed Values :\\n\",Observed_Values)"
   ]
  },
  {
   "cell_type": "code",
   "execution_count": 16,
   "metadata": {},
   "outputs": [
    {
     "name": "stdout",
     "output_type": "stream",
     "text": [
      "0.4840828822091383\n",
      "0.48657873605618596\n",
      "1\n",
      "[[2562.38989067  925.61010933]\n",
      " [2611.61010933  943.38989067]]\n"
     ]
    }
   ],
   "source": [
    "import scipy.stats as stats\n",
    "chi , p , ddof , val =stats.chi2_contingency(table)\n",
    "print(chi)\n",
    "print(p)\n",
    "print(ddof)\n",
    "print(val)\n",
    "# We can say that p-value is > than 0.05 so our null hypothesis is true"
   ]
  },
  {
   "cell_type": "code",
   "execution_count": 17,
   "metadata": {},
   "outputs": [
    {
     "name": "stdout",
     "output_type": "stream",
     "text": [
      "[0.13862033 0.38374617]\n"
     ]
    },
    {
     "data": {
      "text/plain": [
       "0.522366503358827"
      ]
     },
     "execution_count": 17,
     "metadata": {},
     "output_type": "execute_result"
    }
   ],
   "source": [
    "# But les us check\n",
    "Expected_Values = val\n",
    "from scipy.stats import chi2\n",
    "chi_square=sum([(o-e)**2./e for o,e in zip(Observed_Values,Expected_Values)])\n",
    "print(chi_square)\n",
    "chi_square_statistic=chi_square[0]+chi_square[1]\n",
    "chi_square_statistic"
   ]
  },
  {
   "cell_type": "code",
   "execution_count": 18,
   "metadata": {},
   "outputs": [
    {
     "name": "stdout",
     "output_type": "stream",
     "text": [
      "p-value: 0.46983394114265187\n",
      "Significance level:  0.05\n",
      "Degree of Freedom:  1\n"
     ]
    }
   ],
   "source": [
    "#p-value\n",
    "alpha = 0.05\n",
    "p_value=1-chi2.cdf(x=chi_square_statistic,df=ddof)\n",
    "print('p-value:',p_value)\n",
    "print('Significance level: ',alpha)\n",
    "print('Degree of Freedom: ',ddof)\n"
   ]
  },
  {
   "cell_type": "code",
   "execution_count": 19,
   "metadata": {},
   "outputs": [
    {
     "name": "stdout",
     "output_type": "stream",
     "text": [
      "Retain H0,There is no relationship between 2 categorical variables\n"
     ]
    }
   ],
   "source": [
    "if p_value<=alpha:\n",
    "    print(\"Reject H0,There is a relationship between 2 categorical variables\")\n",
    "else:\n",
    "    print(\"Retain H0,There is no relationship between 2 categorical variables\")"
   ]
  },
  {
   "cell_type": "code",
   "execution_count": null,
   "metadata": {},
   "outputs": [],
   "source": []
  },
  {
   "cell_type": "markdown",
   "metadata": {},
   "source": [
    "# Paperless billing "
   ]
  },
  {
   "cell_type": "markdown",
   "metadata": {},
   "source": [
    "you can do it easily ( for paperless billing )"
   ]
  },
  {
   "cell_type": "code",
   "execution_count": 6,
   "metadata": {},
   "outputs": [
    {
     "data": {
      "text/plain": [
       "Text(0.5, 0.8, 'Ali')"
      ]
     },
     "execution_count": 6,
     "metadata": {},
     "output_type": "execute_result"
    },
    {
     "data": {
      "image/png": "[encoded data removed]",
      "text/plain": [
       "<Figure size 1440x360 with 1 Axes>"
      ]
     },
     "metadata": {},
     "output_type": "display_data"
    }
   ],
   "source": [
    "sns.set(style = 'darkgrid')\n",
    "sns.set_palette('husl',3)\n",
    "fig , ax = plt.subplots(figsize = (20,5))\n",
    "ax = sns.countplot(x = 'gender' , hue='Churn' , data = df)\n",
    "\n",
    "ax.text(0.5, 0.8, 'Ali', horizontalalignment='center', verticalalignment='center', transform=ax.transAxes , \n",
    "        bbox=dict(facecolor='blue', alpha=0.5) , fontsize  = 28)"
   ]
  },
  {
   "cell_type": "code",
   "execution_count": 60,
   "metadata": {},
   "outputs": [
    {
     "data": {
      "image/png": "[encoded data removed]",
      "text/plain": [
       "<Figure size 1440x360 with 1 Axes>"
      ]
     },
     "metadata": {},
     "output_type": "display_data"
    }
   ],
   "source": [
    "fig , ax1 = plt.subplots(figsize = (20,5))\n",
    "ax1 = sns.countplot(x = 'gender' , hue='Churn' , data = df)\n",
    "\n",
    "for p in ax.patches:\n",
    "    height = p.get_height()\n",
    "    ax1.text(p.get_x() + p.get_width()/2. , p.get_height()+10 ,\n",
    "             '{:1.2f}'.format(height/df.shape[0]) , ha= 'center')\n",
    "# Sammu try to understand this otherwise Ill be explaiing you in zoom session."
   ]
  },
  {
   "cell_type": "code",
   "execution_count": 38,
   "metadata": {},
   "outputs": [
    {
     "name": "stdout",
     "output_type": "stream",
     "text": [
      "Rectangle(xy=(-0.4, 0), width=0.4, height=2549, angle=0)\n",
      "2549\n",
      "0.4\n",
      "-0.4\n",
      "0\n",
      "Rectangle(xy=(0.6, 0), width=0.4, height=2625, angle=0)\n",
      "2625\n",
      "0.4\n",
      "0.6000000000000001\n",
      "0\n",
      "Rectangle(xy=(-2.77556e-17, 0), width=0.4, height=939, angle=0)\n",
      "939\n",
      "0.4000000000000001\n",
      "-2.7755575615628914e-17\n",
      "0\n",
      "Rectangle(xy=(1, 0), width=0.4, height=930, angle=0)\n",
      "930\n",
      "0.4000000000000001\n",
      "0.9999999999999999\n",
      "0\n",
      "7043\n"
     ]
    }
   ],
   "source": [
    "for p in ax.patches:\n",
    "    print(p)\n",
    "    print(p.get_height())\n",
    "    print(p.get_width())\n",
    "    print(p.get_x())\n",
    "    print(p.get_y())\n",
    "print(df.shape[0])  "
   ]
  },
  {
   "cell_type": "code",
   "execution_count": 43,
   "metadata": {
    "collapsed": true
   },
   "outputs": [
    {
     "name": "stdout",
     "output_type": "stream",
     "text": [
      "Help on method text in module matplotlib.axes._axes:\n",
      "\n",
      "text(x, y, s, fontdict=None, **kwargs) method of matplotlib.axes._subplots.AxesSubplot instance\n",
      "    Add text to the axes.\n",
      "    \n",
      "    Add the text *s* to the axes at location *x*, *y* in data coordinates.\n",
      "    \n",
      "    Parameters\n",
      "    ----------\n",
      "    x, y : float\n",
      "        The position to place the text. By default, this is in data\n",
      "        coordinates. The coordinate system can be changed using the\n",
      "        *transform* parameter.\n",
      "    \n",
      "    s : str\n",
      "        The text.\n",
      "    \n",
      "    fontdict : dict, default: None\n",
      "        A dictionary to override the default text properties. If fontdict\n",
      "        is None, the defaults are determined by `.rcParams`.\n",
      "    \n",
      "    Returns\n",
      "    -------\n",
      "    `.Text`\n",
      "        The created `.Text` instance.\n",
      "    \n",
      "    Other Parameters\n",
      "    ----------------\n",
      "    **kwargs : `~matplotlib.text.Text` properties.\n",
      "        Other miscellaneous text parameters.\n",
      "    \n",
      "        Properties:\n",
      "        agg_filter: a filter function, which takes a (m, n, 3) float array and a dpi value, and returns a (m, n, 3) array\n",
      "        alpha: float or None\n",
      "        animated: bool\n",
      "        backgroundcolor: color\n",
      "        bbox: dict with properties for `.patches.FancyBboxPatch`\n",
      "        clip_box: `.Bbox`\n",
      "        clip_on: bool\n",
      "        clip_path: Patch or (Path, Transform) or None\n",
      "        color or c: color\n",
      "        contains: unknown\n",
      "        figure: `.Figure`\n",
      "        fontfamily or family: {FONTNAME, 'serif', 'sans-serif', 'cursive', 'fantasy', 'monospace'}\n",
      "        fontproperties or font or font_properties: `.font_manager.FontProperties` or `str` or `pathlib.Path`\n",
      "        fontsize or size: float or {'xx-small', 'x-small', 'small', 'medium', 'large', 'x-large', 'xx-large'}\n",
      "        fontstretch or stretch: {a numeric value in range 0-1000, 'ultra-condensed', 'extra-condensed', 'condensed', 'semi-condensed', 'normal', 'semi-expanded', 'expanded', 'extra-expanded', 'ultra-expanded'}\n",
      "        fontstyle or style: {'normal', 'italic', 'oblique'}\n",
      "        fontvariant or variant: {'normal', 'small-caps'}\n",
      "        fontweight or weight: {a numeric value in range 0-1000, 'ultralight', 'light', 'normal', 'regular', 'book', 'medium', 'roman', 'semibold', 'demibold', 'demi', 'bold', 'heavy', 'extra bold', 'black'}\n",
      "        gid: str\n",
      "        horizontalalignment or ha: {'center', 'right', 'left'}\n",
      "        in_layout: bool\n",
      "        label: object\n",
      "        linespacing: float (multiple of font size)\n",
      "        multialignment or ma: {'left', 'right', 'center'}\n",
      "        path_effects: `.AbstractPathEffect`\n",
      "        picker: None or bool or callable\n",
      "        position: (float, float)\n",
      "        rasterized: bool or None\n",
      "        rotation: float or {'vertical', 'horizontal'}\n",
      "        rotation_mode: {None, 'default', 'anchor'}\n",
      "        sketch_params: (scale: float, length: float, randomness: float)\n",
      "        snap: bool or None\n",
      "        text: object\n",
      "        transform: `.Transform`\n",
      "        url: str\n",
      "        usetex: bool or None\n",
      "        verticalalignment or va: {'center', 'top', 'bottom', 'baseline', 'center_baseline'}\n",
      "        visible: bool\n",
      "        wrap: bool\n",
      "        x: float\n",
      "        y: float\n",
      "        zorder: float\n",
      "    \n",
      "    Examples\n",
      "    --------\n",
      "    Individual keyword arguments can be used to override any given\n",
      "    parameter::\n",
      "    \n",
      "        >>> text(x, y, s, fontsize=12)\n",
      "    \n",
      "    The default transform specifies that text is in data coords,\n",
      "    alternatively, you can specify text in axis coords ((0, 0) is\n",
      "    lower-left and (1, 1) is upper-right).  The example below places\n",
      "    text in the center of the axes::\n",
      "    \n",
      "        >>> text(0.5, 0.5, 'matplotlib', horizontalalignment='center',\n",
      "        ...      verticalalignment='center', transform=ax.transAxes)\n",
      "    \n",
      "    You can put a rectangular box around the text instance (e.g., to\n",
      "    set a background color) by using the keyword *bbox*.  *bbox* is\n",
      "    a dictionary of `~matplotlib.patches.Rectangle`\n",
      "    properties.  For example::\n",
      "    \n",
      "        >>> text(x, y, s, bbox=dict(facecolor='red', alpha=0.5))\n",
      "\n"
     ]
    }
   ],
   "source": [
    "help(ax.text) \n",
    "# add text to the axes\n",
    "# required positional arguments: 'x', 'y', and 's'"
   ]
  },
  {
   "cell_type": "code",
   "execution_count": 41,
   "metadata": {},
   "outputs": [
    {
     "name": "stdout",
     "output_type": "stream",
     "text": [
      "1.2 933\n"
     ]
    }
   ],
   "source": [
    "print(p.get_x() + p.get_width()/2. , p.get_height()+3)"
   ]
  },
  {
   "cell_type": "code",
   "execution_count": 62,
   "metadata": {},
   "outputs": [
    {
     "data": {
      "text/plain": [
       "0.49694732358370014"
      ]
     },
     "execution_count": 62,
     "metadata": {},
     "output_type": "execute_result"
    }
   ],
   "source": [
    "3500/df.shape[0]"
   ]
  },
  {
   "cell_type": "code",
   "execution_count": null,
   "metadata": {},
   "outputs": [],
   "source": []
  }
 ],
 "metadata": {
  "kernelspec": {
   "display_name": "Python 3",
   "language": "python",
   "name": "python3"
  },
  "language_info": {
   "codemirror_mode": {
    "name": "ipython",
    "version": 3
   },
   "file_extension": ".py",
   "mimetype": "text/x-python",
   "name": "python",
   "nbconvert_exporter": "python",
   "pygments_lexer": "ipython3",
   "version": "3.8.5"
  }
 },
 "nbformat": 4,
 "nbformat_minor": 4
}
